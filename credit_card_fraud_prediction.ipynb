{
 "cells": [
  {
   "cell_type": "code",
   "execution_count": 1,
   "metadata": {},
   "outputs": [],
   "source": [
    "import pandas as pd\n",
    "import matplotlib\n",
    "import numpy as np\n",
    "matplotlib.use('TkAgg')\n",
    "import matplotlib.pyplot as plt\n",
    "import seaborn as sns"
   ]
  },
  {
   "cell_type": "code",
   "execution_count": 2,
   "metadata": {},
   "outputs": [],
   "source": [
    "%matplotlib inline"
   ]
  },
  {
   "cell_type": "code",
   "execution_count": 2,
   "metadata": {},
   "outputs": [],
   "source": [
    "data = pd.read_csv('/Users/nupursolanki/Desktop/machine_learning_modelling/data/creditcard.csv')"
   ]
  },
  {
   "cell_type": "code",
   "execution_count": 3,
   "metadata": {},
   "outputs": [
    {
     "name": "stdout",
     "output_type": "stream",
     "text": [
      "   Time     V1     V2     V3     V4     V5     V6     V7     V8     V9  ...  \\\n",
      "0   0.0 -1.360 -0.073  2.536  1.378 -0.338  0.462  0.240  0.099  0.364  ...   \n",
      "1   0.0  1.192  0.266  0.166  0.448  0.060 -0.082 -0.079  0.085 -0.255  ...   \n",
      "2   1.0 -1.358 -1.340  1.773  0.380 -0.503  1.800  0.791  0.248 -1.515  ...   \n",
      "3   1.0 -0.966 -0.185  1.793 -0.863 -0.010  1.247  0.238  0.377 -1.387  ...   \n",
      "4   2.0 -1.158  0.878  1.549  0.403 -0.407  0.096  0.593 -0.271  0.818  ...   \n",
      "\n",
      "     V21    V22    V23    V24    V25    V26    V27    V28  Amount  Class  \n",
      "0 -0.018  0.278 -0.110  0.067  0.129 -0.189  0.134 -0.021  149.62      0  \n",
      "1 -0.226 -0.639  0.101 -0.340  0.167  0.126 -0.009  0.015    2.69      0  \n",
      "2  0.248  0.772  0.909 -0.689 -0.328 -0.139 -0.055 -0.060  378.66      0  \n",
      "3 -0.108  0.005 -0.190 -1.176  0.647 -0.222  0.063  0.061  123.50      0  \n",
      "4 -0.009  0.798 -0.137  0.141 -0.206  0.502  0.219  0.215   69.99      0  \n",
      "\n",
      "[5 rows x 31 columns]\n",
      "(284807, 31)\n",
      "                Time            V1            V2            V3            V4  \\\n",
      "count  284807.000000  2.848070e+05  2.848070e+05  2.848070e+05  2.848070e+05   \n",
      "mean    94813.859575  2.808920e-08 -3.300481e-07 -6.074289e-07  1.931132e-07   \n",
      "std     47488.145955  1.958696e+00  1.651308e+00  1.516256e+00  1.415869e+00   \n",
      "min         0.000000 -5.640800e+01 -7.271600e+01 -4.832600e+01 -5.683000e+00   \n",
      "25%     54201.500000 -9.200000e-01 -5.990000e-01 -8.900000e-01 -8.490000e-01   \n",
      "50%     84692.000000  1.800000e-02  6.500000e-02  1.800000e-01 -2.000000e-02   \n",
      "75%    139320.500000  1.316000e+00  8.040000e-01  1.027000e+00  7.430000e-01   \n",
      "max    172792.000000  2.455000e+00  2.205800e+01  9.383000e+00  1.687500e+01   \n",
      "\n",
      "                 V5             V6            V7            V8            V9  \\\n",
      "count  2.848070e+05  284807.000000  2.848070e+05  2.848070e+05  2.848070e+05   \n",
      "mean  -3.054700e-07      -0.000001 -6.565850e-07  9.128989e-08 -1.474683e-07   \n",
      "std    1.380247e+00       1.332272  1.237092e+00  1.194353e+00  1.098631e+00   \n",
      "min   -1.137430e+02     -26.161000 -4.355700e+01 -7.321700e+01 -1.343400e+01   \n",
      "25%   -6.920000e-01      -0.768000 -5.540000e-01 -2.090000e-01 -6.430000e-01   \n",
      "50%   -5.400000e-02      -0.274000  4.000000e-02  2.200000e-02 -5.100000e-02   \n",
      "75%    6.120000e-01       0.399000  5.700000e-01  3.270000e-01  5.970000e-01   \n",
      "max    3.480200e+01      73.302000  1.205890e+02  2.000700e+01  1.559500e+01   \n",
      "\n",
      "       ...           V21           V22           V23           V24  \\\n",
      "count  ...  2.848070e+05  2.848070e+05  2.848070e+05  2.848070e+05   \n",
      "mean   ... -7.794752e-07 -2.071578e-07 -7.654306e-07  2.492916e-07   \n",
      "std    ...  7.345245e-01  7.257009e-01  6.244600e-01  6.056476e-01   \n",
      "min    ... -3.483000e+01 -1.093300e+01 -4.480800e+01 -2.837000e+00   \n",
      "25%    ... -2.280000e-01 -5.420000e-01 -1.620000e-01 -3.550000e-01   \n",
      "50%    ... -2.900000e-02  7.000000e-03 -1.100000e-02  4.100000e-02   \n",
      "75%    ...  1.860000e-01  5.290000e-01  1.480000e-01  4.400000e-01   \n",
      "max    ...  2.720300e+01  1.050300e+01  2.252800e+01  4.585000e+00   \n",
      "\n",
      "                V25           V26           V27           V28         Amount  \\\n",
      "count  2.848070e+05  2.848070e+05  2.848070e+05  2.848070e+05  284807.000000   \n",
      "mean  -1.439571e-07 -7.829864e-07  7.900087e-07  3.932488e-07      88.349619   \n",
      "std    5.212786e-01  4.822271e-01  4.036321e-01  3.300840e-01     250.120109   \n",
      "min   -1.029500e+01 -2.605000e+00 -2.256600e+01 -1.543000e+01       0.000000   \n",
      "25%   -3.170000e-01 -3.270000e-01 -7.100000e-02 -5.300000e-02       5.600000   \n",
      "50%    1.700000e-02 -5.200000e-02  1.000000e-03  1.100000e-02      22.000000   \n",
      "75%    3.510000e-01  2.410000e-01  9.100000e-02  7.800000e-02      77.165000   \n",
      "max    7.520000e+00  3.517000e+00  3.161200e+01  3.384800e+01   25691.160000   \n",
      "\n",
      "               Class  \n",
      "count  284807.000000  \n",
      "mean        0.001727  \n",
      "std         0.041527  \n",
      "min         0.000000  \n",
      "25%         0.000000  \n",
      "50%         0.000000  \n",
      "75%         0.000000  \n",
      "max         1.000000  \n",
      "\n",
      "[8 rows x 31 columns]\n"
     ]
    }
   ],
   "source": [
    "#Exploratory Data Analysis\n",
    "data = data.round(3)\n",
    "print(data.head())\n",
    "print(data.shape)\n",
    "print(data.describe())"
   ]
  },
  {
   "cell_type": "code",
   "execution_count": 5,
   "metadata": {},
   "outputs": [
    {
     "name": "stdout",
     "output_type": "stream",
     "text": [
      "0    284315\n",
      "1       492\n",
      "Name: Class, dtype: int64\n"
     ]
    }
   ],
   "source": [
    "class_count = data['Class'].value_counts()\n",
    "print(class_count)"
   ]
  },
  {
   "cell_type": "markdown",
   "metadata": {},
   "source": [
    "There are only 492 fraudulent transactions compared to ~284k non fraudulent transactions. So the data that we have is unbalanced. "
   ]
  },
  {
   "cell_type": "code",
   "execution_count": 6,
   "metadata": {},
   "outputs": [
    {
     "data": {
      "text/plain": [
       "Text(0.5, 1.0, 'Heatmap of Correlation')"
      ]
     },
     "execution_count": 6,
     "metadata": {},
     "output_type": "execute_result"
    },
    {
     "data": {
      "image/png": "[encoded data removed]",
      "text/plain": [
       "<Figure size 864x720 with 2 Axes>"
      ]
     },
     "metadata": {
      "needs_background": "light"
     },
     "output_type": "display_data"
    }
   ],
   "source": [
    "#Heatmap of correlation\n",
    "corr = data.corr()\n",
    "plt.figure(figsize=(12,10))\n",
    "heat = sns.heatmap(data=corr)\n",
    "plt.title('Heatmap of Correlation')"
   ]
  },
  {
   "cell_type": "code",
   "execution_count": 7,
   "metadata": {},
   "outputs": [
    {
     "name": "stdout",
     "output_type": "stream",
     "text": [
      "count    284807.000000\n",
      "mean         88.349619\n",
      "std         250.120109\n",
      "min           0.000000\n",
      "25%           5.600000\n",
      "50%          22.000000\n",
      "75%          77.165000\n",
      "max       25691.160000\n",
      "Name: Amount, dtype: float64\n"
     ]
    }
   ],
   "source": [
    "#amount stats\n",
    "amt_stats = data['Amount'].describe()\n",
    "print(amt_stats)"
   ]
  },
  {
   "cell_type": "markdown",
   "metadata": {},
   "source": [
    "\n",
    "\n",
    "We see that the 75th %tile amount is 77 whereas maximum is ~25k. So there are outliers. Lets further check how many outliers are there."
   ]
  },
  {
   "cell_type": "code",
   "execution_count": 11,
   "metadata": {},
   "outputs": [],
   "source": [
    "d1 = data.loc[(data['Amount']>2000) & (data['Class'] ==1)]"
   ]
  },
  {
   "cell_type": "markdown",
   "metadata": {},
   "source": [
    "We will keep only data where amount is less than 10000 to remove outliers."
   ]
  },
  {
   "cell_type": "code",
   "execution_count": 12,
   "metadata": {},
   "outputs": [
    {
     "name": "stdout",
     "output_type": "stream",
     "text": [
      "            Time     V1     V2     V3    V4     V5     V6    V7     V8    V9  \\\n",
      "176049  122608.0 -2.003 -7.159 -4.051  1.31 -2.058 -0.099  2.88 -0.727  1.46   \n",
      "\n",
      "        ...    V21    V22    V23    V24    V25    V26    V27    V28   Amount  \\\n",
      "176049  ...  1.244 -1.015 -1.801  0.658 -0.436 -0.895 -0.398  0.314  2125.87   \n",
      "\n",
      "        Class  \n",
      "176049      1  \n",
      "\n",
      "[1 rows x 31 columns]\n"
     ]
    }
   ],
   "source": [
    "print(d1)"
   ]
  },
  {
   "cell_type": "code",
   "execution_count": 9,
   "metadata": {},
   "outputs": [],
   "source": [
    "data=data.loc[data['Amount']<8000]"
   ]
  },
  {
   "cell_type": "code",
   "execution_count": 10,
   "metadata": {},
   "outputs": [
    {
     "data": {
      "text/plain": [
       "(array([2.80174e+05, 3.41800e+03, 7.19000e+02, 2.41000e+02, 1.27000e+02,\n",
       "        6.30000e+01, 2.20000e+01, 1.30000e+01, 9.00000e+00, 9.00000e+00]),\n",
       " array([   0.   ,  787.942, 1575.884, 2363.826, 3151.768, 3939.71 ,\n",
       "        4727.652, 5515.594, 6303.536, 7091.478, 7879.42 ]),\n",
       " <BarContainer object of 10 artists>)"
      ]
     },
     "execution_count": 10,
     "metadata": {},
     "output_type": "execute_result"
    },
    {
     "data": {
      "image/png": "[encoded data removed]",
      "text/plain": [
       "<Figure size 720x576 with 1 Axes>"
      ]
     },
     "metadata": {
      "needs_background": "light"
     },
     "output_type": "display_data"
    }
   ],
   "source": [
    "#Distribution of amount\n",
    "plt.figure(figsize=(10,8))\n",
    "plt.title('Distribution of Amount')\n",
    "plt.hist(data['Amount'], bins=10)\n"
   ]
  },
  {
   "cell_type": "code",
   "execution_count": 11,
   "metadata": {},
   "outputs": [
    {
     "name": "stdout",
     "output_type": "stream",
     "text": [
      "count    284795.000000\n",
      "mean      94813.167148\n",
      "std       47487.985425\n",
      "min           0.000000\n",
      "25%       54201.500000\n",
      "50%       84691.000000\n",
      "75%      139320.000000\n",
      "max      172792.000000\n",
      "Name: Time, dtype: float64\n"
     ]
    }
   ],
   "source": [
    "#Time stats and distribution\n",
    "time_stats = data['Time'].describe()\n",
    "print(time_stats)"
   ]
  },
  {
   "cell_type": "code",
   "execution_count": 12,
   "metadata": {},
   "outputs": [
    {
     "data": {
      "text/plain": [
       "Text(0, 0.5, 'Amount')"
      ]
     },
     "execution_count": 12,
     "metadata": {},
     "output_type": "execute_result"
    },
    {
     "data": {
      "image/png": "[encoded data removed]",
      "text/plain": [
       "<Figure size 1152x576 with 1 Axes>"
      ]
     },
     "metadata": {
      "needs_background": "light"
     },
     "output_type": "display_data"
    }
   ],
   "source": [
    "plt.figure(figsize=(16,8))\n",
    "plt.plot(data['Time'],data['Amount'])\n",
    "plt.xlabel('Time')\n",
    "plt.ylabel('Amount')"
   ]
  },
  {
   "cell_type": "code",
   "execution_count": 13,
   "metadata": {},
   "outputs": [
    {
     "data": {
      "text/html": [
       "<div>\n",
       "<style scoped>\n",
       "    .dataframe tbody tr th:only-of-type {\n",
       "        vertical-align: middle;\n",
       "    }\n",
       "\n",
       "    .dataframe tbody tr th {\n",
       "        vertical-align: top;\n",
       "    }\n",
       "\n",
       "    .dataframe thead th {\n",
       "        text-align: right;\n",
       "    }\n",
       "</style>\n",
       "<table border=\"1\" class=\"dataframe\">\n",
       "  <thead>\n",
       "    <tr style=\"text-align: right;\">\n",
       "      <th></th>\n",
       "      <th>Time</th>\n",
       "      <th>V1</th>\n",
       "      <th>V2</th>\n",
       "      <th>V3</th>\n",
       "      <th>V4</th>\n",
       "      <th>V5</th>\n",
       "      <th>V6</th>\n",
       "      <th>V7</th>\n",
       "      <th>V8</th>\n",
       "      <th>V9</th>\n",
       "      <th>...</th>\n",
       "      <th>V21</th>\n",
       "      <th>V22</th>\n",
       "      <th>V23</th>\n",
       "      <th>V24</th>\n",
       "      <th>V25</th>\n",
       "      <th>V26</th>\n",
       "      <th>V27</th>\n",
       "      <th>V28</th>\n",
       "      <th>Amount</th>\n",
       "      <th>Class</th>\n",
       "    </tr>\n",
       "  </thead>\n",
       "  <tbody>\n",
       "    <tr>\n",
       "      <th>count</th>\n",
       "      <td>492.000000</td>\n",
       "      <td>492.000000</td>\n",
       "      <td>492.000000</td>\n",
       "      <td>492.000000</td>\n",
       "      <td>492.000000</td>\n",
       "      <td>492.000000</td>\n",
       "      <td>492.000000</td>\n",
       "      <td>492.000000</td>\n",
       "      <td>492.000000</td>\n",
       "      <td>492.000000</td>\n",
       "      <td>...</td>\n",
       "      <td>492.000000</td>\n",
       "      <td>492.000000</td>\n",
       "      <td>492.000000</td>\n",
       "      <td>492.000000</td>\n",
       "      <td>492.000000</td>\n",
       "      <td>492.000000</td>\n",
       "      <td>492.000000</td>\n",
       "      <td>492.000000</td>\n",
       "      <td>492.000000</td>\n",
       "      <td>492.0</td>\n",
       "    </tr>\n",
       "    <tr>\n",
       "      <th>mean</th>\n",
       "      <td>80746.806911</td>\n",
       "      <td>-4.771937</td>\n",
       "      <td>3.623789</td>\n",
       "      <td>-7.033274</td>\n",
       "      <td>4.542028</td>\n",
       "      <td>-3.151232</td>\n",
       "      <td>-1.397722</td>\n",
       "      <td>-5.568713</td>\n",
       "      <td>0.570648</td>\n",
       "      <td>-2.581128</td>\n",
       "      <td>...</td>\n",
       "      <td>0.713606</td>\n",
       "      <td>0.014045</td>\n",
       "      <td>-0.040297</td>\n",
       "      <td>-0.105114</td>\n",
       "      <td>0.041431</td>\n",
       "      <td>0.051650</td>\n",
       "      <td>0.170598</td>\n",
       "      <td>0.075667</td>\n",
       "      <td>122.211321</td>\n",
       "      <td>1.0</td>\n",
       "    </tr>\n",
       "    <tr>\n",
       "      <th>std</th>\n",
       "      <td>47835.365138</td>\n",
       "      <td>6.783700</td>\n",
       "      <td>4.291204</td>\n",
       "      <td>7.110964</td>\n",
       "      <td>2.873324</td>\n",
       "      <td>5.372473</td>\n",
       "      <td>1.858124</td>\n",
       "      <td>7.206761</td>\n",
       "      <td>6.797792</td>\n",
       "      <td>2.500895</td>\n",
       "      <td>...</td>\n",
       "      <td>3.869327</td>\n",
       "      <td>1.494592</td>\n",
       "      <td>1.579657</td>\n",
       "      <td>0.515570</td>\n",
       "      <td>0.797217</td>\n",
       "      <td>0.471698</td>\n",
       "      <td>1.376767</td>\n",
       "      <td>0.547293</td>\n",
       "      <td>256.683288</td>\n",
       "      <td>0.0</td>\n",
       "    </tr>\n",
       "    <tr>\n",
       "      <th>min</th>\n",
       "      <td>406.000000</td>\n",
       "      <td>-30.552000</td>\n",
       "      <td>-8.402000</td>\n",
       "      <td>-31.104000</td>\n",
       "      <td>-1.313000</td>\n",
       "      <td>-22.106000</td>\n",
       "      <td>-6.406000</td>\n",
       "      <td>-43.557000</td>\n",
       "      <td>-41.044000</td>\n",
       "      <td>-13.434000</td>\n",
       "      <td>...</td>\n",
       "      <td>-22.798000</td>\n",
       "      <td>-8.887000</td>\n",
       "      <td>-19.254000</td>\n",
       "      <td>-2.028000</td>\n",
       "      <td>-4.782000</td>\n",
       "      <td>-1.153000</td>\n",
       "      <td>-7.263000</td>\n",
       "      <td>-1.869000</td>\n",
       "      <td>0.000000</td>\n",
       "      <td>1.0</td>\n",
       "    </tr>\n",
       "    <tr>\n",
       "      <th>25%</th>\n",
       "      <td>41241.500000</td>\n",
       "      <td>-6.035750</td>\n",
       "      <td>1.188500</td>\n",
       "      <td>-8.643750</td>\n",
       "      <td>2.372750</td>\n",
       "      <td>-4.792750</td>\n",
       "      <td>-2.501750</td>\n",
       "      <td>-7.965000</td>\n",
       "      <td>-0.195500</td>\n",
       "      <td>-3.872250</td>\n",
       "      <td>...</td>\n",
       "      <td>0.042000</td>\n",
       "      <td>-0.533500</td>\n",
       "      <td>-0.342250</td>\n",
       "      <td>-0.437250</td>\n",
       "      <td>-0.314000</td>\n",
       "      <td>-0.259500</td>\n",
       "      <td>-0.020250</td>\n",
       "      <td>-0.109000</td>\n",
       "      <td>1.000000</td>\n",
       "      <td>1.0</td>\n",
       "    </tr>\n",
       "    <tr>\n",
       "      <th>50%</th>\n",
       "      <td>75568.500000</td>\n",
       "      <td>-2.342500</td>\n",
       "      <td>2.718000</td>\n",
       "      <td>-5.075000</td>\n",
       "      <td>4.177500</td>\n",
       "      <td>-1.523000</td>\n",
       "      <td>-1.425000</td>\n",
       "      <td>-3.034500</td>\n",
       "      <td>0.621500</td>\n",
       "      <td>-2.208500</td>\n",
       "      <td>...</td>\n",
       "      <td>0.592500</td>\n",
       "      <td>0.048500</td>\n",
       "      <td>-0.073000</td>\n",
       "      <td>-0.060500</td>\n",
       "      <td>0.088500</td>\n",
       "      <td>0.004000</td>\n",
       "      <td>0.395000</td>\n",
       "      <td>0.146500</td>\n",
       "      <td>9.250000</td>\n",
       "      <td>1.0</td>\n",
       "    </tr>\n",
       "    <tr>\n",
       "      <th>75%</th>\n",
       "      <td>128483.000000</td>\n",
       "      <td>-0.419250</td>\n",
       "      <td>4.971250</td>\n",
       "      <td>-2.276250</td>\n",
       "      <td>6.349000</td>\n",
       "      <td>0.214750</td>\n",
       "      <td>-0.413500</td>\n",
       "      <td>-0.945500</td>\n",
       "      <td>1.764500</td>\n",
       "      <td>-0.787500</td>\n",
       "      <td>...</td>\n",
       "      <td>1.244500</td>\n",
       "      <td>0.617250</td>\n",
       "      <td>0.308250</td>\n",
       "      <td>0.285250</td>\n",
       "      <td>0.456500</td>\n",
       "      <td>0.397000</td>\n",
       "      <td>0.826250</td>\n",
       "      <td>0.381000</td>\n",
       "      <td>105.890000</td>\n",
       "      <td>1.0</td>\n",
       "    </tr>\n",
       "    <tr>\n",
       "      <th>max</th>\n",
       "      <td>170348.000000</td>\n",
       "      <td>2.132000</td>\n",
       "      <td>22.058000</td>\n",
       "      <td>2.250000</td>\n",
       "      <td>12.115000</td>\n",
       "      <td>11.095000</td>\n",
       "      <td>6.474000</td>\n",
       "      <td>5.803000</td>\n",
       "      <td>20.007000</td>\n",
       "      <td>3.354000</td>\n",
       "      <td>...</td>\n",
       "      <td>27.203000</td>\n",
       "      <td>8.362000</td>\n",
       "      <td>5.466000</td>\n",
       "      <td>1.091000</td>\n",
       "      <td>2.208000</td>\n",
       "      <td>2.745000</td>\n",
       "      <td>3.052000</td>\n",
       "      <td>1.779000</td>\n",
       "      <td>2125.870000</td>\n",
       "      <td>1.0</td>\n",
       "    </tr>\n",
       "  </tbody>\n",
       "</table>\n",
       "<p>8 rows × 31 columns</p>\n",
       "</div>"
      ],
      "text/plain": [
       "                Time          V1          V2          V3          V4  \\\n",
       "count     492.000000  492.000000  492.000000  492.000000  492.000000   \n",
       "mean    80746.806911   -4.771937    3.623789   -7.033274    4.542028   \n",
       "std     47835.365138    6.783700    4.291204    7.110964    2.873324   \n",
       "min       406.000000  -30.552000   -8.402000  -31.104000   -1.313000   \n",
       "25%     41241.500000   -6.035750    1.188500   -8.643750    2.372750   \n",
       "50%     75568.500000   -2.342500    2.718000   -5.075000    4.177500   \n",
       "75%    128483.000000   -0.419250    4.971250   -2.276250    6.349000   \n",
       "max    170348.000000    2.132000   22.058000    2.250000   12.115000   \n",
       "\n",
       "               V5          V6          V7          V8          V9  ...  \\\n",
       "count  492.000000  492.000000  492.000000  492.000000  492.000000  ...   \n",
       "mean    -3.151232   -1.397722   -5.568713    0.570648   -2.581128  ...   \n",
       "std      5.372473    1.858124    7.206761    6.797792    2.500895  ...   \n",
       "min    -22.106000   -6.406000  -43.557000  -41.044000  -13.434000  ...   \n",
       "25%     -4.792750   -2.501750   -7.965000   -0.195500   -3.872250  ...   \n",
       "50%     -1.523000   -1.425000   -3.034500    0.621500   -2.208500  ...   \n",
       "75%      0.214750   -0.413500   -0.945500    1.764500   -0.787500  ...   \n",
       "max     11.095000    6.474000    5.803000   20.007000    3.354000  ...   \n",
       "\n",
       "              V21         V22         V23         V24         V25         V26  \\\n",
       "count  492.000000  492.000000  492.000000  492.000000  492.000000  492.000000   \n",
       "mean     0.713606    0.014045   -0.040297   -0.105114    0.041431    0.051650   \n",
       "std      3.869327    1.494592    1.579657    0.515570    0.797217    0.471698   \n",
       "min    -22.798000   -8.887000  -19.254000   -2.028000   -4.782000   -1.153000   \n",
       "25%      0.042000   -0.533500   -0.342250   -0.437250   -0.314000   -0.259500   \n",
       "50%      0.592500    0.048500   -0.073000   -0.060500    0.088500    0.004000   \n",
       "75%      1.244500    0.617250    0.308250    0.285250    0.456500    0.397000   \n",
       "max     27.203000    8.362000    5.466000    1.091000    2.208000    2.745000   \n",
       "\n",
       "              V27         V28       Amount  Class  \n",
       "count  492.000000  492.000000   492.000000  492.0  \n",
       "mean     0.170598    0.075667   122.211321    1.0  \n",
       "std      1.376767    0.547293   256.683288    0.0  \n",
       "min     -7.263000   -1.869000     0.000000    1.0  \n",
       "25%     -0.020250   -0.109000     1.000000    1.0  \n",
       "50%      0.395000    0.146500     9.250000    1.0  \n",
       "75%      0.826250    0.381000   105.890000    1.0  \n",
       "max      3.052000    1.779000  2125.870000    1.0  \n",
       "\n",
       "[8 rows x 31 columns]"
      ]
     },
     "execution_count": 13,
     "metadata": {},
     "output_type": "execute_result"
    }
   ],
   "source": [
    "fraud_df = data.loc[data['Class']==1]\n",
    "fraud_df.describe()"
   ]
  },
  {
   "cell_type": "code",
   "execution_count": 14,
   "metadata": {},
   "outputs": [
    {
     "data": {
      "image/png": "[encoded data removed]",
      "text/plain": [
       "<Figure size 1152x576 with 2 Axes>"
      ]
     },
     "metadata": {
      "needs_background": "light"
     },
     "output_type": "display_data"
    }
   ],
   "source": [
    "f,(ax1,ax2)=plt.subplots(2,1,figsize=(16,8))\n",
    "ax1.hist(data.Time[data.Class==1],bins=50)\n",
    "ax1.set_title(\"Fraudulent Transactions Time Distribution\")\n",
    "ax2.hist(data.Time[data.Class==0],bins=50)\n",
    "ax2.set_title(\"Non Fraudulent Transactions Time Distribution\")\n",
    "plt.xlabel('Time in secs')\n",
    "plt.ylabel('Number of transactions')\n",
    "plt.show()"
   ]
  },
  {
   "cell_type": "code",
   "execution_count": 15,
   "metadata": {},
   "outputs": [
    {
     "data": {
      "image/png": "[encoded data removed]",
      "text/plain": [
       "<Figure size 864x720 with 2 Axes>"
      ]
     },
     "metadata": {
      "needs_background": "light"
     },
     "output_type": "display_data"
    }
   ],
   "source": [
    "f,(ax1,ax2)=plt.subplots(2,1,figsize=(12,10))\n",
    "ax1.hist(data.Amount[data.Class==1],bins=50)\n",
    "ax1.set_title(\"Fraudulent Transactions Amount Distribution\")\n",
    "ax2.hist(data.Amount[data.Class==0],bins=50)\n",
    "ax2.set_title(\"Non Fraudulent Transactions Amount Distribution\")\n",
    "plt.xlabel('Amount in USD')\n",
    "plt.ylabel('Number of transactions')\n",
    "plt.show()"
   ]
  },
  {
   "cell_type": "code",
   "execution_count": 22,
   "metadata": {},
   "outputs": [
    {
     "data": {
      "image/png": "[encoded data removed]",
      "text/plain": [
       "<Figure size 432x288 with 1 Axes>"
      ]
     },
     "metadata": {
      "needs_background": "light"
     },
     "output_type": "display_data"
    }
   ],
   "source": [
    "def overlaid_histogram(data1, data2, n_bins = 0, data1_name=\"\", data1_color=\"#539caf\", data2_name=\"\", data2_color=\"#7663b0\", x_label=\"\", y_label=\"\", title=\"\"):\n",
    "    # Set the bounds for the bins so that the two distributions are fairly compared\n",
    "    max_nbins = 50\n",
    "    data_range = [min(min(data1), min(data2)), max(max(data1), max(data2))]\n",
    "    binwidth = (data_range[1] - data_range[0]) / max_nbins\n",
    "\n",
    "\n",
    "    if n_bins == 0:\n",
    "        bins = np.arange(data_range[0], data_range[1] + binwidth, binwidth)\n",
    "    else: \n",
    "        bins = n_bins\n",
    "\n",
    "    # Create the plot\n",
    "    _, ax = plt.subplots()\n",
    "    ax.hist(data1, bins = bins, color = data1_color, alpha = 0.5, label = data1_name)\n",
    "    ax.hist(data2, bins = bins, color = data2_color, alpha = 1, label = data2_name)\n",
    "    ax.set_ylabel(y_label)\n",
    "    ax.set_xlabel(x_label)\n",
    "    ax.set_title(title)\n",
    "    ax.legend(loc = 'best')\n",
    "    \n",
    "overlaid_histogram(data.Time[data['Class']==0],fraud_df['Time'],data1_name = \"Non Fraudulent Transactions\",\n",
    "                   data2_name = \"Fraudulent transactions\",x_label=\"Time in secs\",y_label=\"Number of Transactions\",\n",
    "                  title=\"Time Distribution of Fraudulent vs NOn Fraudulent Transactions\")"
   ]
  },
  {
   "cell_type": "code",
   "execution_count": 16,
   "metadata": {},
   "outputs": [
    {
     "data": {
      "text/plain": [
       "<seaborn.axisgrid.FacetGrid at 0x7fa7b7268190>"
      ]
     },
     "execution_count": 16,
     "metadata": {},
     "output_type": "execute_result"
    },
    {
     "data": {
      "image/png": "[encoded data removed]",
      "text/plain": [
       "<Figure size 360x360 with 1 Axes>"
      ]
     },
     "metadata": {
      "needs_background": "light"
     },
     "output_type": "display_data"
    }
   ],
   "source": [
    "sns.displot(\n",
    "    data=fraud_df.Amount, kind=\"hist\")"
   ]
  },
  {
   "cell_type": "markdown",
   "metadata": {},
   "source": [
    "## Case 1 : \n",
    "Sampling: Random Undersampling || Without standardization\n"
   ]
  },
  {
   "cell_type": "code",
   "execution_count": 16,
   "metadata": {},
   "outputs": [
    {
     "name": "stdout",
     "output_type": "stream",
     "text": [
      "Original dataset shape Counter({0: 284303, 1: 492})\n",
      "Resampled dataset shape Counter({0: 492, 1: 492})\n"
     ]
    }
   ],
   "source": [
    "#Sampling to solve the imbalance data issue: SMOTE and imblearn random undersampling\n",
    "import imblearn\n",
    "from collections import Counter\n",
    "from sklearn.datasets import make_classification\n",
    "from imblearn.under_sampling import RandomUnderSampler \n",
    "X = data\n",
    "y = data['Class']\n",
    "\n",
    "print('Original dataset shape {}'.format(Counter(y)))\n",
    "rus = RandomUnderSampler(random_state=42)\n",
    "X_res, y_res = rus.fit_resample(X, y)\n",
    "print('Resampled dataset shape {}'.format(Counter(y_res)))"
   ]
  },
  {
   "cell_type": "markdown",
   "metadata": {},
   "source": [
    "We have 984 rows in udersampled data. We will display that."
   ]
  },
  {
   "cell_type": "code",
   "execution_count": 17,
   "metadata": {},
   "outputs": [
    {
     "name": "stdout",
     "output_type": "stream",
     "text": [
      "(984,)\n"
     ]
    }
   ],
   "source": [
    "from sklearn.model_selection import train_test_split\n",
    "\n",
    "train_data = X_res.loc[:,data.columns!=\"Class\"]\n",
    "print(y_res.shape)"
   ]
  },
  {
   "cell_type": "markdown",
   "metadata": {},
   "source": [
    "We will now divide the undersampled data into train test split with test size as 30%"
   ]
  },
  {
   "cell_type": "code",
   "execution_count": 18,
   "metadata": {},
   "outputs": [],
   "source": [
    "X_train, X_test, y_train, y_test = train_test_split(train_data, \n",
    "                                                    y_res, \n",
    "                                                    stratify = y_res, \n",
    "                                                    test_size = 0.3, \n",
    "                                                    random_state = 42)\n"
   ]
  },
  {
   "cell_type": "markdown",
   "metadata": {},
   "source": [
    "We are done with sampling. We now apply scaling to standardize the amount and time columns."
   ]
  },
  {
   "cell_type": "code",
   "execution_count": 19,
   "metadata": {},
   "outputs": [
    {
     "name": "stderr",
     "output_type": "stream",
     "text": [
      "<ipython-input-19-1928d3505c25>:5: SettingWithCopyWarning: \n",
      "A value is trying to be set on a copy of a slice from a DataFrame.\n",
      "Try using .loc[row_indexer,col_indexer] = value instead\n",
      "\n",
      "See the caveats in the documentation: https://pandas.pydata.org/pandas-docs/stable/user_guide/indexing.html#returning-a-view-versus-a-copy\n",
      "  X_train[col] = scaler.fit_transform(X_train[col].values.reshape(-1, 1))\n",
      "<ipython-input-19-1928d3505c25>:6: SettingWithCopyWarning: \n",
      "A value is trying to be set on a copy of a slice from a DataFrame.\n",
      "Try using .loc[row_indexer,col_indexer] = value instead\n",
      "\n",
      "See the caveats in the documentation: https://pandas.pydata.org/pandas-docs/stable/user_guide/indexing.html#returning-a-view-versus-a-copy\n",
      "  X_test[col] = scaler.transform(X_test[col].values.reshape(-1, 1))\n",
      "<ipython-input-19-1928d3505c25>:5: SettingWithCopyWarning: \n",
      "A value is trying to be set on a copy of a slice from a DataFrame.\n",
      "Try using .loc[row_indexer,col_indexer] = value instead\n",
      "\n",
      "See the caveats in the documentation: https://pandas.pydata.org/pandas-docs/stable/user_guide/indexing.html#returning-a-view-versus-a-copy\n",
      "  X_train[col] = scaler.fit_transform(X_train[col].values.reshape(-1, 1))\n",
      "<ipython-input-19-1928d3505c25>:6: SettingWithCopyWarning: \n",
      "A value is trying to be set on a copy of a slice from a DataFrame.\n",
      "Try using .loc[row_indexer,col_indexer] = value instead\n",
      "\n",
      "See the caveats in the documentation: https://pandas.pydata.org/pandas-docs/stable/user_guide/indexing.html#returning-a-view-versus-a-copy\n",
      "  X_test[col] = scaler.transform(X_test[col].values.reshape(-1, 1))\n"
     ]
    }
   ],
   "source": [
    "from sklearn.preprocessing import StandardScaler\n",
    "\n",
    "for col in [\"Amount\", \"Time\"]:\n",
    "    scaler = StandardScaler()\n",
    "    X_train[col] = scaler.fit_transform(X_train[col].values.reshape(-1, 1))\n",
    "    X_test[col] = scaler.transform(X_test[col].values.reshape(-1, 1))"
   ]
  },
  {
   "cell_type": "markdown",
   "metadata": {},
   "source": [
    "We now have the data ready. We apply random forest classifier on training data."
   ]
  },
  {
   "cell_type": "code",
   "execution_count": 21,
   "metadata": {},
   "outputs": [
    {
     "data": {
      "text/plain": [
       "RandomForestClassifier(n_jobs=-1, random_state=42)"
      ]
     },
     "execution_count": 21,
     "metadata": {},
     "output_type": "execute_result"
    }
   ],
   "source": [
    "from sklearn.ensemble import RandomForestClassifier\n",
    "rfc = RandomForestClassifier(random_state = 42, n_jobs = -1)\n",
    "rfc.fit(X_train,y_train)\n"
   ]
  },
  {
   "cell_type": "markdown",
   "metadata": {},
   "source": [
    "Predict using the test data"
   ]
  },
  {
   "cell_type": "code",
   "execution_count": 22,
   "metadata": {},
   "outputs": [],
   "source": [
    "y_predict = pd.DataFrame(rfc.predict(X_test))"
   ]
  },
  {
   "cell_type": "markdown",
   "metadata": {},
   "source": [
    "We now measure performance using confusion matrix and ROC curves"
   ]
  },
  {
   "cell_type": "code",
   "execution_count": 25,
   "metadata": {},
   "outputs": [
    {
     "name": "stdout",
     "output_type": "stream",
     "text": [
      "[[143   5]\n",
      " [ 12 136]]\n"
     ]
    }
   ],
   "source": [
    "#confusion matrix\n",
    "from sklearn.metrics import confusion_matrix\n",
    "confusion_mat_rus = confusion_matrix(y_test,y_predict)\n",
    "print(confusion_mat_rus)"
   ]
  },
  {
   "cell_type": "code",
   "execution_count": 26,
   "metadata": {},
   "outputs": [
    {
     "name": "stdout",
     "output_type": "stream",
     "text": [
      "143 5 12 136\n"
     ]
    }
   ],
   "source": [
    "tn, fp, fn, tp = confusion_matrix(y_test,y_predict).ravel()\n",
    "print(tn,fp,fn,tp)"
   ]
  },
  {
   "cell_type": "code",
   "execution_count": 28,
   "metadata": {},
   "outputs": [
    {
     "data": {
      "image/png": "[encoded data removed]",
      "text/plain": [
       "<Figure size 432x288 with 1 Axes>"
      ]
     },
     "metadata": {
      "needs_background": "light"
     },
     "output_type": "display_data"
    }
   ],
   "source": [
    "#ROC curve\n",
    "from sklearn.svm import SVC\n",
    "from sklearn.metrics import plot_roc_curve\n",
    "\n",
    "ax = plt.gca()\n",
    "rfc_disp = plot_roc_curve(rfc, X_test, y_test, ax=ax)\n",
    "plt.title('ROC-AUC Curve on test data with random undersampling technique')\n",
    "plt.show()\n"
   ]
  },
  {
   "cell_type": "markdown",
   "metadata": {},
   "source": [
    "We will now do the same with oversampling"
   ]
  },
  {
   "cell_type": "code",
   "execution_count": 30,
   "metadata": {},
   "outputs": [
    {
     "name": "stdout",
     "output_type": "stream",
     "text": [
      "Original dataset shape Counter({0: 284303, 1: 492})\n",
      "Resampled dataset shape Counter({0: 284303, 1: 284303})\n"
     ]
    }
   ],
   "source": [
    "#Oversampled dataset\n",
    "#Resampling\n",
    "from imblearn.over_sampling import RandomOverSampler\n",
    "X = data\n",
    "y = data['Class']\n",
    "ros = RandomOverSampler(random_state=42)\n",
    "# fit predictor and target variable\n",
    "x_ros, y_ros = ros.fit_resample(X, y)\n",
    "print('Original dataset shape {}'.format(Counter(y)))\n",
    "print('Resampled dataset shape {}'.format(Counter(y_ros)))\n",
    "\n",
    "train_data1 = x_ros.loc[:,data.columns!=\"Class\"]\n",
    "X_train1, X_test1, y_train1, y_test1 = train_test_split(train_data1, \n",
    "                                                    y_ros, \n",
    "                                                    stratify = y_ros, \n",
    "                                                    test_size = 0.3, \n",
    "                                                    random_state = 42)\n"
   ]
  },
  {
   "cell_type": "code",
   "execution_count": 31,
   "metadata": {},
   "outputs": [
    {
     "name": "stderr",
     "output_type": "stream",
     "text": [
      "<ipython-input-31-a6545378d582>:5: SettingWithCopyWarning: \n",
      "A value is trying to be set on a copy of a slice from a DataFrame.\n",
      "Try using .loc[row_indexer,col_indexer] = value instead\n",
      "\n",
      "See the caveats in the documentation: https://pandas.pydata.org/pandas-docs/stable/user_guide/indexing.html#returning-a-view-versus-a-copy\n",
      "  X_train1[col] = scaler.fit_transform(X_train1[col].values.reshape(-1, 1))\n",
      "<ipython-input-31-a6545378d582>:6: SettingWithCopyWarning: \n",
      "A value is trying to be set on a copy of a slice from a DataFrame.\n",
      "Try using .loc[row_indexer,col_indexer] = value instead\n",
      "\n",
      "See the caveats in the documentation: https://pandas.pydata.org/pandas-docs/stable/user_guide/indexing.html#returning-a-view-versus-a-copy\n",
      "  X_test1[col] = scaler.transform(X_test1[col].values.reshape(-1, 1))\n",
      "<ipython-input-31-a6545378d582>:5: SettingWithCopyWarning: \n",
      "A value is trying to be set on a copy of a slice from a DataFrame.\n",
      "Try using .loc[row_indexer,col_indexer] = value instead\n",
      "\n",
      "See the caveats in the documentation: https://pandas.pydata.org/pandas-docs/stable/user_guide/indexing.html#returning-a-view-versus-a-copy\n",
      "  X_train1[col] = scaler.fit_transform(X_train1[col].values.reshape(-1, 1))\n",
      "<ipython-input-31-a6545378d582>:6: SettingWithCopyWarning: \n",
      "A value is trying to be set on a copy of a slice from a DataFrame.\n",
      "Try using .loc[row_indexer,col_indexer] = value instead\n",
      "\n",
      "See the caveats in the documentation: https://pandas.pydata.org/pandas-docs/stable/user_guide/indexing.html#returning-a-view-versus-a-copy\n",
      "  X_test1[col] = scaler.transform(X_test1[col].values.reshape(-1, 1))\n"
     ]
    }
   ],
   "source": [
    "from sklearn.preprocessing import StandardScaler\n",
    "\n",
    "for col in [\"Amount\", \"Time\"]:\n",
    "    scaler = StandardScaler()\n",
    "    X_train1[col] = scaler.fit_transform(X_train1[col].values.reshape(-1, 1))\n",
    "    X_test1[col] = scaler.transform(X_test1[col].values.reshape(-1, 1))"
   ]
  },
  {
   "cell_type": "code",
   "execution_count": 32,
   "metadata": {},
   "outputs": [
    {
     "name": "stdout",
     "output_type": "stream",
     "text": [
      "[[143   5]\n",
      " [ 12 136]]\n"
     ]
    }
   ],
   "source": [
    "rfc1 = RandomForestClassifier(random_state = 42, n_jobs = -1)\n",
    "rfc1.fit(X_train1,y_train1)\n",
    "y_predict1 = pd.DataFrame(rfc1.predict(X_test1))\n"
   ]
  },
  {
   "cell_type": "code",
   "execution_count": 34,
   "metadata": {},
   "outputs": [
    {
     "name": "stdout",
     "output_type": "stream",
     "text": [
      "[[85284     7]\n",
      " [    0 85291]]\n"
     ]
    }
   ],
   "source": [
    "confusion_mat_ros = confusion_matrix(y_test1,y_predict1)\n",
    "print(confusion_mat_ros)\n",
    "\n",
    "tn, fp, fn, tp = confusion_matrix(y_test1,y_predict1).ravel()\n",
    "\n"
   ]
  },
  {
   "cell_type": "code",
   "execution_count": 42,
   "metadata": {},
   "outputs": [
    {
     "data": {
      "image/png": "[encoded data removed]",
      "text/plain": [
       "<Figure size 432x288 with 1 Axes>"
      ]
     },
     "metadata": {
      "needs_background": "light"
     },
     "output_type": "display_data"
    }
   ],
   "source": [
    "rfc_disp1 = plot_roc_curve(rfc1, X_test1, y_test1)\n",
    "plt.title('ROC-AUC Curve on test data with random oversampling technique')\n",
    "plt.show()"
   ]
  },
  {
   "cell_type": "code",
   "execution_count": 35,
   "metadata": {},
   "outputs": [
    {
     "name": "stdout",
     "output_type": "stream",
     "text": [
      "Original dataset shape Counter({0: 284303, 1: 492})\n",
      "Resample dataset shape Counter({0: 284303, 1: 284303})\n"
     ]
    }
   ],
   "source": [
    "#SMOTE sampling dataset\n",
    "from imblearn.over_sampling import SMOTE\n",
    "\n",
    "smote = SMOTE()\n",
    "\n",
    "# fit predictor and target variable\n",
    "x_smote, y_smote = smote.fit_resample(X, y)\n",
    "\n",
    "print('Original dataset shape', Counter(y))\n",
    "print('Resample dataset shape', Counter(y_smote))\n",
    "\n"
   ]
  },
  {
   "cell_type": "code",
   "execution_count": 36,
   "metadata": {},
   "outputs": [],
   "source": [
    "train_data2 = x_smote.loc[:,data.columns!=\"Class\"]\n",
    "X_train2, X_test2, y_train2, y_test2 = train_test_split(train_data2, \n",
    "                                                    y_smote, \n",
    "                                                    stratify = y_smote, \n",
    "                                                    test_size = 0.3, \n",
    "                                                    random_state = 42)\n"
   ]
  },
  {
   "cell_type": "code",
   "execution_count": 37,
   "metadata": {},
   "outputs": [
    {
     "name": "stderr",
     "output_type": "stream",
     "text": [
      "<ipython-input-37-9c37c1b71b0e>:3: SettingWithCopyWarning: \n",
      "A value is trying to be set on a copy of a slice from a DataFrame.\n",
      "Try using .loc[row_indexer,col_indexer] = value instead\n",
      "\n",
      "See the caveats in the documentation: https://pandas.pydata.org/pandas-docs/stable/user_guide/indexing.html#returning-a-view-versus-a-copy\n",
      "  X_train2[col] = scaler.fit_transform(X_train2[col].values.reshape(-1, 1))\n",
      "<ipython-input-37-9c37c1b71b0e>:4: SettingWithCopyWarning: \n",
      "A value is trying to be set on a copy of a slice from a DataFrame.\n",
      "Try using .loc[row_indexer,col_indexer] = value instead\n",
      "\n",
      "See the caveats in the documentation: https://pandas.pydata.org/pandas-docs/stable/user_guide/indexing.html#returning-a-view-versus-a-copy\n",
      "  X_test2[col] = scaler.transform(X_test2[col].values.reshape(-1, 1))\n",
      "<ipython-input-37-9c37c1b71b0e>:3: SettingWithCopyWarning: \n",
      "A value is trying to be set on a copy of a slice from a DataFrame.\n",
      "Try using .loc[row_indexer,col_indexer] = value instead\n",
      "\n",
      "See the caveats in the documentation: https://pandas.pydata.org/pandas-docs/stable/user_guide/indexing.html#returning-a-view-versus-a-copy\n",
      "  X_train2[col] = scaler.fit_transform(X_train2[col].values.reshape(-1, 1))\n",
      "<ipython-input-37-9c37c1b71b0e>:4: SettingWithCopyWarning: \n",
      "A value is trying to be set on a copy of a slice from a DataFrame.\n",
      "Try using .loc[row_indexer,col_indexer] = value instead\n",
      "\n",
      "See the caveats in the documentation: https://pandas.pydata.org/pandas-docs/stable/user_guide/indexing.html#returning-a-view-versus-a-copy\n",
      "  X_test2[col] = scaler.transform(X_test2[col].values.reshape(-1, 1))\n"
     ]
    }
   ],
   "source": [
    "for col in [\"Amount\", \"Time\"]:\n",
    "    scaler = StandardScaler()\n",
    "    X_train2[col] = scaler.fit_transform(X_train2[col].values.reshape(-1, 1))\n",
    "    X_test2[col] = scaler.transform(X_test2[col].values.reshape(-1, 1))"
   ]
  },
  {
   "cell_type": "code",
   "execution_count": 38,
   "metadata": {},
   "outputs": [],
   "source": [
    "rfc2 = RandomForestClassifier(random_state = 42, n_jobs = -1)\n",
    "rfc2.fit(X_train2,y_train2)\n",
    "y_predict2 = pd.DataFrame(rfc2.predict(X_test2))\n",
    "\n"
   ]
  },
  {
   "cell_type": "code",
   "execution_count": 39,
   "metadata": {},
   "outputs": [
    {
     "name": "stdout",
     "output_type": "stream",
     "text": [
      "[[85273    18]\n",
      " [    3 85288]]\n"
     ]
    },
    {
     "data": {
      "image/png": "[encoded data removed]",
      "text/plain": [
       "<Figure size 432x288 with 1 Axes>"
      ]
     },
     "metadata": {
      "needs_background": "light"
     },
     "output_type": "display_data"
    }
   ],
   "source": [
    "confusion_mat_smote = confusion_matrix(y_test2,y_predict2)\n",
    "print(confusion_mat_smote)\n",
    "\n",
    "tn, fp, fn, tp = confusion_matrix(y_test2,y_predict2).ravel()\n",
    "\n",
    "ax = plt.gca()\n",
    "rfc_disp2 = plot_roc_curve(rfc2, X_test2, y_test2, ax=ax)\n",
    "plt.title('ROC-AUC Curve on test data with SMOTE sampling technique')\n",
    "plt.show()\n"
   ]
  },
  {
   "cell_type": "markdown",
   "metadata": {},
   "source": [
    "For logisitc we will use X_train an dy_train that we had used for random undersampling in random forests\n",
    "\n",
    "\n",
    "knn\n",
    "tree\n",
    "xgboost\n"
   ]
  },
  {
   "cell_type": "code",
   "execution_count": 38,
   "metadata": {},
   "outputs": [],
   "source": [
    "from sklearn.linear_model import LogisticRegression\n",
    "clf = LogisticRegression(random_state=0).fit(X_train, y_train)\n",
    "ylogit_predict = pd.DataFrame(clf.predict(X_test))\n"
   ]
  },
  {
   "cell_type": "code",
   "execution_count": 42,
   "metadata": {},
   "outputs": [
    {
     "name": "stdout",
     "output_type": "stream",
     "text": [
      "[[145   3]\n",
      " [ 11 137]]\n"
     ]
    },
    {
     "data": {
      "image/png": "[encoded data removed]",
      "text/plain": [
       "<Figure size 432x288 with 1 Axes>"
      ]
     },
     "metadata": {
      "needs_background": "light"
     },
     "output_type": "display_data"
    }
   ],
   "source": [
    "#confusion matrix and ROC\n",
    "confusion_mat_logit = confusion_matrix(y_test,ylogit_predict)\n",
    "print(confusion_mat_logit)\n",
    "lr_disp = plot_roc_curve(clf, X_test, y_test)\n",
    "plt.title('ROC-AUC Curve on test data with logistic regression technique')\n",
    "plt.show()"
   ]
  },
  {
   "cell_type": "code",
   "execution_count": 45,
   "metadata": {},
   "outputs": [
    {
     "data": {
      "text/plain": [
       "0.9534883720930233"
      ]
     },
     "execution_count": 45,
     "metadata": {},
     "output_type": "execute_result"
    }
   ],
   "source": [
    "clf.predict_proba(X_test)\n",
    "clf.score(X_train, y_train)"
   ]
  },
  {
   "cell_type": "code",
   "execution_count": 46,
   "metadata": {},
   "outputs": [],
   "source": [
    "from sklearn import tree\n",
    "dtc = tree.DecisionTreeClassifier()\n",
    "dtc = dtc.fit(X_train, y_train)"
   ]
  },
  {
   "cell_type": "markdown",
   "metadata": {},
   "source": [
    "Try later\n",
    "import graphviz\n",
    "dot_data = tree.export_graphviz(dtc, out_file=None, \n",
    "                    feature_names=train_data.columns,  \n",
    "                      class_names='Class',  \n",
    "                      filled=True, rounded=True,  \n",
    "                      special_characters=True)  \n",
    "graph = graphviz.Source(dot_data)  \n",
    "graph "
   ]
  },
  {
   "cell_type": "code",
   "execution_count": 52,
   "metadata": {},
   "outputs": [],
   "source": [
    "ydtc_predict = pd.DataFrame(dtc.predict(X_test))"
   ]
  },
  {
   "cell_type": "code",
   "execution_count": 53,
   "metadata": {},
   "outputs": [
    {
     "name": "stdout",
     "output_type": "stream",
     "text": [
      "[[135  13]\n",
      " [  9 139]]\n"
     ]
    },
    {
     "data": {
      "image/png": "[encoded data removed]",
      "text/plain": [
       "<Figure size 432x288 with 1 Axes>"
      ]
     },
     "metadata": {
      "needs_background": "light"
     },
     "output_type": "display_data"
    }
   ],
   "source": [
    "confusion_mat_dtc = confusion_matrix(y_test,ydtc_predict)\n",
    "print(confusion_mat_dtc)\n",
    "dtc_disp = plot_roc_curve(dtc, X_test, y_test)\n",
    "plt.title('ROC-AUC Curve on test data with decision tree classifier')\n",
    "plt.show()"
   ]
  },
  {
   "cell_type": "code",
   "execution_count": 54,
   "metadata": {},
   "outputs": [
    {
     "ename": "ModuleNotFoundError",
     "evalue": "No module named 'xgboost'",
     "output_type": "error",
     "traceback": [
      "\u001b[0;31m---------------------------------------------------------------------------\u001b[0m",
      "\u001b[0;31mModuleNotFoundError\u001b[0m                       Traceback (most recent call last)",
      "\u001b[0;32m<ipython-input-54-477fa34615c5>\u001b[0m in \u001b[0;36m<module>\u001b[0;34m\u001b[0m\n\u001b[0;32m----> 1\u001b[0;31m \u001b[0;32mfrom\u001b[0m \u001b[0mxgboost\u001b[0m \u001b[0;32mimport\u001b[0m \u001b[0mXGBClassifier\u001b[0m\u001b[0;34m\u001b[0m\u001b[0;34m\u001b[0m\u001b[0m\n\u001b[0m",
      "\u001b[0;31mModuleNotFoundError\u001b[0m: No module named 'xgboost'"
     ]
    }
   ],
   "source": [
    "from xgboost import XGBClassifier\n"
   ]
  },
  {
   "cell_type": "code",
   "execution_count": 56,
   "metadata": {},
   "outputs": [
    {
     "name": "stdout",
     "output_type": "stream",
     "text": [
      "Collecting xgboost\n",
      "  Downloading xgboost-1.4.2-py3-none-macosx_10_14_x86_64.macosx_10_15_x86_64.macosx_11_0_x86_64.whl (1.2 MB)\n",
      "\u001b[K     |████████████████████████████████| 1.2 MB 4.7 MB/s eta 0:00:01\n",
      "\u001b[?25hRequirement already satisfied: numpy in /Users/nupursolanki/opt/anaconda3/lib/python3.8/site-packages (from xgboost) (1.19.2)\n",
      "Requirement already satisfied: scipy in /Users/nupursolanki/opt/anaconda3/lib/python3.8/site-packages (from xgboost) (1.5.2)\n",
      "Installing collected packages: xgboost\n",
      "Successfully installed xgboost-1.4.2\n",
      "Note: you may need to restart the kernel to use updated packages.\n"
     ]
    }
   ],
   "source": [
    "pip install xgboost"
   ]
  },
  {
   "cell_type": "code",
   "execution_count": null,
   "metadata": {},
   "outputs": [],
   "source": []
  }
 ],
 "metadata": {
  "kernelspec": {
   "display_name": "Python 3",
   "language": "python",
   "name": "python3"
  },
  "language_info": {
   "codemirror_mode": {
    "name": "ipython",
    "version": 3
   },
   "file_extension": ".py",
   "mimetype": "text/x-python",
   "name": "python",
   "nbconvert_exporter": "python",
   "pygments_lexer": "ipython3",
   "version": "3.8.5"
  }
 },
 "nbformat": 4,
 "nbformat_minor": 5
}
