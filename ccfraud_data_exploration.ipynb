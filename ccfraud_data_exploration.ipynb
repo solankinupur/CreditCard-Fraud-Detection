{
 "cells": [
  {
   "cell_type": "code",
   "execution_count": 1,
   "metadata": {},
   "outputs": [],
   "source": [
    "import pandas as pd\n",
    "import matplotlib\n",
    "import numpy as np\n",
    "matplotlib.use('TkAgg')\n",
    "import matplotlib.pyplot as plt\n",
    "import seaborn as sns"
   ]
  },
  {
   "cell_type": "code",
   "execution_count": 2,
   "metadata": {},
   "outputs": [],
   "source": [
    "%matplotlib inline"
   ]
  },
  {
   "cell_type": "code",
   "execution_count": 3,
   "metadata": {},
   "outputs": [],
   "source": [
    "data = pd.read_csv('/Users/nupursolanki/Desktop/machine_learning_modelling/data/creditcard.csv')"
   ]
  },
  {
   "cell_type": "markdown",
   "metadata": {},
   "source": [
    "# **Exploratory Data Analysis**"
   ]
  },
  {
   "cell_type": "code",
   "execution_count": 4,
   "metadata": {},
   "outputs": [
    {
     "name": "stdout",
     "output_type": "stream",
     "text": [
      "(284807, 31)\n"
     ]
    }
   ],
   "source": [
    "data = data.round(3)\n",
    "print(data.shape)"
   ]
  },
  {
   "cell_type": "code",
   "execution_count": 5,
   "metadata": {},
   "outputs": [
    {
     "name": "stdout",
     "output_type": "stream",
     "text": [
      "   Time     V1     V2     V3     V4     V5     V6     V7     V8     V9  ...  \\\n",
      "0   0.0 -1.360 -0.073  2.536  1.378 -0.338  0.462  0.240  0.099  0.364  ...   \n",
      "1   0.0  1.192  0.266  0.166  0.448  0.060 -0.082 -0.079  0.085 -0.255  ...   \n",
      "2   1.0 -1.358 -1.340  1.773  0.380 -0.503  1.800  0.791  0.248 -1.515  ...   \n",
      "3   1.0 -0.966 -0.185  1.793 -0.863 -0.010  1.247  0.238  0.377 -1.387  ...   \n",
      "4   2.0 -1.158  0.878  1.549  0.403 -0.407  0.096  0.593 -0.271  0.818  ...   \n",
      "\n",
      "     V21    V22    V23    V24    V25    V26    V27    V28  Amount  Class  \n",
      "0 -0.018  0.278 -0.110  0.067  0.129 -0.189  0.134 -0.021  149.62      0  \n",
      "1 -0.226 -0.639  0.101 -0.340  0.167  0.126 -0.009  0.015    2.69      0  \n",
      "2  0.248  0.772  0.909 -0.689 -0.328 -0.139 -0.055 -0.060  378.66      0  \n",
      "3 -0.108  0.005 -0.190 -1.176  0.647 -0.222  0.063  0.061  123.50      0  \n",
      "4 -0.009  0.798 -0.137  0.141 -0.206  0.502  0.219  0.215   69.99      0  \n",
      "\n",
      "[5 rows x 31 columns]\n"
     ]
    }
   ],
   "source": [
    "print(data.head(5))"
   ]
  },
  {
   "cell_type": "code",
   "execution_count": 6,
   "metadata": {},
   "outputs": [
    {
     "name": "stdout",
     "output_type": "stream",
     "text": [
      "                Time            V1            V2            V3            V4  \\\n",
      "count  284807.000000  2.848070e+05  2.848070e+05  2.848070e+05  2.848070e+05   \n",
      "mean    94813.859575  2.808920e-08 -3.300481e-07 -6.074289e-07  1.931132e-07   \n",
      "std     47488.145955  1.958696e+00  1.651308e+00  1.516256e+00  1.415869e+00   \n",
      "min         0.000000 -5.640800e+01 -7.271600e+01 -4.832600e+01 -5.683000e+00   \n",
      "25%     54201.500000 -9.200000e-01 -5.990000e-01 -8.900000e-01 -8.490000e-01   \n",
      "50%     84692.000000  1.800000e-02  6.500000e-02  1.800000e-01 -2.000000e-02   \n",
      "75%    139320.500000  1.316000e+00  8.040000e-01  1.027000e+00  7.430000e-01   \n",
      "max    172792.000000  2.455000e+00  2.205800e+01  9.383000e+00  1.687500e+01   \n",
      "\n",
      "                 V5             V6            V7            V8            V9  \\\n",
      "count  2.848070e+05  284807.000000  2.848070e+05  2.848070e+05  2.848070e+05   \n",
      "mean  -3.054700e-07      -0.000001 -6.565850e-07  9.128989e-08 -1.474683e-07   \n",
      "std    1.380247e+00       1.332272  1.237092e+00  1.194353e+00  1.098631e+00   \n",
      "min   -1.137430e+02     -26.161000 -4.355700e+01 -7.321700e+01 -1.343400e+01   \n",
      "25%   -6.920000e-01      -0.768000 -5.540000e-01 -2.090000e-01 -6.430000e-01   \n",
      "50%   -5.400000e-02      -0.274000  4.000000e-02  2.200000e-02 -5.100000e-02   \n",
      "75%    6.120000e-01       0.399000  5.700000e-01  3.270000e-01  5.970000e-01   \n",
      "max    3.480200e+01      73.302000  1.205890e+02  2.000700e+01  1.559500e+01   \n",
      "\n",
      "       ...           V21           V22           V23           V24  \\\n",
      "count  ...  2.848070e+05  2.848070e+05  2.848070e+05  2.848070e+05   \n",
      "mean   ... -7.794752e-07 -2.071578e-07 -7.654306e-07  2.492916e-07   \n",
      "std    ...  7.345245e-01  7.257009e-01  6.244600e-01  6.056476e-01   \n",
      "min    ... -3.483000e+01 -1.093300e+01 -4.480800e+01 -2.837000e+00   \n",
      "25%    ... -2.280000e-01 -5.420000e-01 -1.620000e-01 -3.550000e-01   \n",
      "50%    ... -2.900000e-02  7.000000e-03 -1.100000e-02  4.100000e-02   \n",
      "75%    ...  1.860000e-01  5.290000e-01  1.480000e-01  4.400000e-01   \n",
      "max    ...  2.720300e+01  1.050300e+01  2.252800e+01  4.585000e+00   \n",
      "\n",
      "                V25           V26           V27           V28         Amount  \\\n",
      "count  2.848070e+05  2.848070e+05  2.848070e+05  2.848070e+05  284807.000000   \n",
      "mean  -1.439571e-07 -7.829864e-07  7.900087e-07  3.932488e-07      88.349619   \n",
      "std    5.212786e-01  4.822271e-01  4.036321e-01  3.300840e-01     250.120109   \n",
      "min   -1.029500e+01 -2.605000e+00 -2.256600e+01 -1.543000e+01       0.000000   \n",
      "25%   -3.170000e-01 -3.270000e-01 -7.100000e-02 -5.300000e-02       5.600000   \n",
      "50%    1.700000e-02 -5.200000e-02  1.000000e-03  1.100000e-02      22.000000   \n",
      "75%    3.510000e-01  2.410000e-01  9.100000e-02  7.800000e-02      77.165000   \n",
      "max    7.520000e+00  3.517000e+00  3.161200e+01  3.384800e+01   25691.160000   \n",
      "\n",
      "               Class  \n",
      "count  284807.000000  \n",
      "mean        0.001727  \n",
      "std         0.041527  \n",
      "min         0.000000  \n",
      "25%         0.000000  \n",
      "50%         0.000000  \n",
      "75%         0.000000  \n",
      "max         1.000000  \n",
      "\n",
      "[8 rows x 31 columns]\n"
     ]
    }
   ],
   "source": [
    "print(data.describe())"
   ]
  },
  {
   "cell_type": "code",
   "execution_count": 7,
   "metadata": {},
   "outputs": [
    {
     "name": "stdout",
     "output_type": "stream",
     "text": [
      "0    284315\n",
      "1       492\n",
      "Name: Class, dtype: int64\n"
     ]
    }
   ],
   "source": [
    "class_count = data['Class'].value_counts()\n",
    "print(class_count)"
   ]
  },
  {
   "cell_type": "markdown",
   "metadata": {},
   "source": [
    "**Visualizations:**"
   ]
  },
  {
   "cell_type": "markdown",
   "metadata": {},
   "source": [
    "**1. Heatmap of Correlation**"
   ]
  },
  {
   "cell_type": "code",
   "execution_count": 8,
   "metadata": {},
   "outputs": [
    {
     "data": {
      "text/plain": [
       "Text(0.5, 1.0, 'Heatmap of Correlation')"
      ]
     },
     "execution_count": 8,
     "metadata": {},
     "output_type": "execute_result"
    },
    {
     "data": {
      "image/png": "[encoded data removed]",
      "text/plain": [
       "<Figure size 864x720 with 2 Axes>"
      ]
     },
     "metadata": {
      "needs_background": "light"
     },
     "output_type": "display_data"
    }
   ],
   "source": [
    "corr = data.corr()\n",
    "plt.figure(figsize=(12,10))\n",
    "heat = sns.heatmap(data=corr)\n",
    "plt.title('Heatmap of Correlation')"
   ]
  },
  {
   "cell_type": "markdown",
   "metadata": {},
   "source": [
    "**Amount Statistics**"
   ]
  },
  {
   "cell_type": "code",
   "execution_count": 9,
   "metadata": {},
   "outputs": [
    {
     "name": "stdout",
     "output_type": "stream",
     "text": [
      "count    284807.000000\n",
      "mean         88.349619\n",
      "std         250.120109\n",
      "min           0.000000\n",
      "25%           5.600000\n",
      "50%          22.000000\n",
      "75%          77.165000\n",
      "max       25691.160000\n",
      "Name: Amount, dtype: float64\n"
     ]
    }
   ],
   "source": [
    "amt_stats = data['Amount'].describe()\n",
    "print(amt_stats)"
   ]
  },
  {
   "cell_type": "markdown",
   "metadata": {},
   "source": [
    "\n",
    "\n",
    "We see that the 75th %tile amount is 77 whereas maximum is ~25k. So there are outliers. Lets further check how many outliers are there."
   ]
  },
  {
   "cell_type": "code",
   "execution_count": 10,
   "metadata": {},
   "outputs": [],
   "source": [
    "d1 = data.loc[(data['Amount']>2000) & (data['Class'] ==1)]"
   ]
  },
  {
   "cell_type": "markdown",
   "metadata": {},
   "source": [
    "We will keep only data where amount is less than 10000 to remove outliers."
   ]
  },
  {
   "cell_type": "code",
   "execution_count": 11,
   "metadata": {},
   "outputs": [
    {
     "name": "stdout",
     "output_type": "stream",
     "text": [
      "            Time     V1     V2     V3    V4     V5     V6    V7     V8    V9  \\\n",
      "176049  122608.0 -2.003 -7.159 -4.051  1.31 -2.058 -0.099  2.88 -0.727  1.46   \n",
      "\n",
      "        ...    V21    V22    V23    V24    V25    V26    V27    V28   Amount  \\\n",
      "176049  ...  1.244 -1.015 -1.801  0.658 -0.436 -0.895 -0.398  0.314  2125.87   \n",
      "\n",
      "        Class  \n",
      "176049      1  \n",
      "\n",
      "[1 rows x 31 columns]\n"
     ]
    }
   ],
   "source": [
    "print(d1)"
   ]
  },
  {
   "cell_type": "code",
   "execution_count": 12,
   "metadata": {},
   "outputs": [],
   "source": [
    "data=data.loc[data['Amount']<8000]"
   ]
  },
  {
   "cell_type": "markdown",
   "metadata": {},
   "source": [
    "**Time stats and distribution**"
   ]
  },
  {
   "cell_type": "code",
   "execution_count": 13,
   "metadata": {},
   "outputs": [
    {
     "name": "stdout",
     "output_type": "stream",
     "text": [
      "count    284795.000000\n",
      "mean      94813.167148\n",
      "std       47487.985425\n",
      "min           0.000000\n",
      "25%       54201.500000\n",
      "50%       84691.000000\n",
      "75%      139320.000000\n",
      "max      172792.000000\n",
      "Name: Time, dtype: float64\n"
     ]
    }
   ],
   "source": [
    "time_stats = data['Time'].describe()\n",
    "print(time_stats)"
   ]
  },
  {
   "cell_type": "code",
   "execution_count": 14,
   "metadata": {},
   "outputs": [
    {
     "data": {
      "text/plain": [
       "Text(0, 0.5, 'Amount')"
      ]
     },
     "execution_count": 14,
     "metadata": {},
     "output_type": "execute_result"
    },
    {
     "data": {
      "image/png": "[encoded data removed]",
      "text/plain": [
       "<Figure size 1152x576 with 1 Axes>"
      ]
     },
     "metadata": {
      "needs_background": "light"
     },
     "output_type": "display_data"
    }
   ],
   "source": [
    "plt.figure(figsize=(16,8))\n",
    "plt.plot(data['Time'],data['Amount'])\n",
    "plt.xlabel('Time')\n",
    "plt.ylabel('Amount')"
   ]
  },
  {
   "cell_type": "markdown",
   "metadata": {},
   "source": [
    "The x axis is the time in seconds from time 0. There is some cyclicity here which can be attributed to the time of day. Since this is transaction data over 2 days the increase in amount is higher during daytime (~7th hour to 20th Hour) which makes sense. "
   ]
  },
  {
   "cell_type": "code",
   "execution_count": 15,
   "metadata": {},
   "outputs": [
    {
     "data": {
      "text/html": [
       "<div>\n",
       "<style scoped>\n",
       "    .dataframe tbody tr th:only-of-type {\n",
       "        vertical-align: middle;\n",
       "    }\n",
       "\n",
       "    .dataframe tbody tr th {\n",
       "        vertical-align: top;\n",
       "    }\n",
       "\n",
       "    .dataframe thead th {\n",
       "        text-align: right;\n",
       "    }\n",
       "</style>\n",
       "<table border=\"1\" class=\"dataframe\">\n",
       "  <thead>\n",
       "    <tr style=\"text-align: right;\">\n",
       "      <th></th>\n",
       "      <th>Time</th>\n",
       "      <th>V1</th>\n",
       "      <th>V2</th>\n",
       "      <th>V3</th>\n",
       "      <th>V4</th>\n",
       "      <th>V5</th>\n",
       "      <th>V6</th>\n",
       "      <th>V7</th>\n",
       "      <th>V8</th>\n",
       "      <th>V9</th>\n",
       "      <th>...</th>\n",
       "      <th>V21</th>\n",
       "      <th>V22</th>\n",
       "      <th>V23</th>\n",
       "      <th>V24</th>\n",
       "      <th>V25</th>\n",
       "      <th>V26</th>\n",
       "      <th>V27</th>\n",
       "      <th>V28</th>\n",
       "      <th>Amount</th>\n",
       "      <th>Class</th>\n",
       "    </tr>\n",
       "  </thead>\n",
       "  <tbody>\n",
       "    <tr>\n",
       "      <th>count</th>\n",
       "      <td>492.000000</td>\n",
       "      <td>492.000000</td>\n",
       "      <td>492.000000</td>\n",
       "      <td>492.000000</td>\n",
       "      <td>492.000000</td>\n",
       "      <td>492.000000</td>\n",
       "      <td>492.000000</td>\n",
       "      <td>492.000000</td>\n",
       "      <td>492.000000</td>\n",
       "      <td>492.000000</td>\n",
       "      <td>...</td>\n",
       "      <td>492.000000</td>\n",
       "      <td>492.000000</td>\n",
       "      <td>492.000000</td>\n",
       "      <td>492.000000</td>\n",
       "      <td>492.000000</td>\n",
       "      <td>492.000000</td>\n",
       "      <td>492.000000</td>\n",
       "      <td>492.000000</td>\n",
       "      <td>492.000000</td>\n",
       "      <td>492.0</td>\n",
       "    </tr>\n",
       "    <tr>\n",
       "      <th>mean</th>\n",
       "      <td>80746.806911</td>\n",
       "      <td>-4.771937</td>\n",
       "      <td>3.623789</td>\n",
       "      <td>-7.033274</td>\n",
       "      <td>4.542028</td>\n",
       "      <td>-3.151232</td>\n",
       "      <td>-1.397722</td>\n",
       "      <td>-5.568713</td>\n",
       "      <td>0.570648</td>\n",
       "      <td>-2.581128</td>\n",
       "      <td>...</td>\n",
       "      <td>0.713606</td>\n",
       "      <td>0.014045</td>\n",
       "      <td>-0.040297</td>\n",
       "      <td>-0.105114</td>\n",
       "      <td>0.041431</td>\n",
       "      <td>0.051650</td>\n",
       "      <td>0.170598</td>\n",
       "      <td>0.075667</td>\n",
       "      <td>122.211321</td>\n",
       "      <td>1.0</td>\n",
       "    </tr>\n",
       "    <tr>\n",
       "      <th>std</th>\n",
       "      <td>47835.365138</td>\n",
       "      <td>6.783700</td>\n",
       "      <td>4.291204</td>\n",
       "      <td>7.110964</td>\n",
       "      <td>2.873324</td>\n",
       "      <td>5.372473</td>\n",
       "      <td>1.858124</td>\n",
       "      <td>7.206761</td>\n",
       "      <td>6.797792</td>\n",
       "      <td>2.500895</td>\n",
       "      <td>...</td>\n",
       "      <td>3.869327</td>\n",
       "      <td>1.494592</td>\n",
       "      <td>1.579657</td>\n",
       "      <td>0.515570</td>\n",
       "      <td>0.797217</td>\n",
       "      <td>0.471698</td>\n",
       "      <td>1.376767</td>\n",
       "      <td>0.547293</td>\n",
       "      <td>256.683288</td>\n",
       "      <td>0.0</td>\n",
       "    </tr>\n",
       "    <tr>\n",
       "      <th>min</th>\n",
       "      <td>406.000000</td>\n",
       "      <td>-30.552000</td>\n",
       "      <td>-8.402000</td>\n",
       "      <td>-31.104000</td>\n",
       "      <td>-1.313000</td>\n",
       "      <td>-22.106000</td>\n",
       "      <td>-6.406000</td>\n",
       "      <td>-43.557000</td>\n",
       "      <td>-41.044000</td>\n",
       "      <td>-13.434000</td>\n",
       "      <td>...</td>\n",
       "      <td>-22.798000</td>\n",
       "      <td>-8.887000</td>\n",
       "      <td>-19.254000</td>\n",
       "      <td>-2.028000</td>\n",
       "      <td>-4.782000</td>\n",
       "      <td>-1.153000</td>\n",
       "      <td>-7.263000</td>\n",
       "      <td>-1.869000</td>\n",
       "      <td>0.000000</td>\n",
       "      <td>1.0</td>\n",
       "    </tr>\n",
       "    <tr>\n",
       "      <th>25%</th>\n",
       "      <td>41241.500000</td>\n",
       "      <td>-6.035750</td>\n",
       "      <td>1.188500</td>\n",
       "      <td>-8.643750</td>\n",
       "      <td>2.372750</td>\n",
       "      <td>-4.792750</td>\n",
       "      <td>-2.501750</td>\n",
       "      <td>-7.965000</td>\n",
       "      <td>-0.195500</td>\n",
       "      <td>-3.872250</td>\n",
       "      <td>...</td>\n",
       "      <td>0.042000</td>\n",
       "      <td>-0.533500</td>\n",
       "      <td>-0.342250</td>\n",
       "      <td>-0.437250</td>\n",
       "      <td>-0.314000</td>\n",
       "      <td>-0.259500</td>\n",
       "      <td>-0.020250</td>\n",
       "      <td>-0.109000</td>\n",
       "      <td>1.000000</td>\n",
       "      <td>1.0</td>\n",
       "    </tr>\n",
       "    <tr>\n",
       "      <th>50%</th>\n",
       "      <td>75568.500000</td>\n",
       "      <td>-2.342500</td>\n",
       "      <td>2.718000</td>\n",
       "      <td>-5.075000</td>\n",
       "      <td>4.177500</td>\n",
       "      <td>-1.523000</td>\n",
       "      <td>-1.425000</td>\n",
       "      <td>-3.034500</td>\n",
       "      <td>0.621500</td>\n",
       "      <td>-2.208500</td>\n",
       "      <td>...</td>\n",
       "      <td>0.592500</td>\n",
       "      <td>0.048500</td>\n",
       "      <td>-0.073000</td>\n",
       "      <td>-0.060500</td>\n",
       "      <td>0.088500</td>\n",
       "      <td>0.004000</td>\n",
       "      <td>0.395000</td>\n",
       "      <td>0.146500</td>\n",
       "      <td>9.250000</td>\n",
       "      <td>1.0</td>\n",
       "    </tr>\n",
       "    <tr>\n",
       "      <th>75%</th>\n",
       "      <td>128483.000000</td>\n",
       "      <td>-0.419250</td>\n",
       "      <td>4.971250</td>\n",
       "      <td>-2.276250</td>\n",
       "      <td>6.349000</td>\n",
       "      <td>0.214750</td>\n",
       "      <td>-0.413500</td>\n",
       "      <td>-0.945500</td>\n",
       "      <td>1.764500</td>\n",
       "      <td>-0.787500</td>\n",
       "      <td>...</td>\n",
       "      <td>1.244500</td>\n",
       "      <td>0.617250</td>\n",
       "      <td>0.308250</td>\n",
       "      <td>0.285250</td>\n",
       "      <td>0.456500</td>\n",
       "      <td>0.397000</td>\n",
       "      <td>0.826250</td>\n",
       "      <td>0.381000</td>\n",
       "      <td>105.890000</td>\n",
       "      <td>1.0</td>\n",
       "    </tr>\n",
       "    <tr>\n",
       "      <th>max</th>\n",
       "      <td>170348.000000</td>\n",
       "      <td>2.132000</td>\n",
       "      <td>22.058000</td>\n",
       "      <td>2.250000</td>\n",
       "      <td>12.115000</td>\n",
       "      <td>11.095000</td>\n",
       "      <td>6.474000</td>\n",
       "      <td>5.803000</td>\n",
       "      <td>20.007000</td>\n",
       "      <td>3.354000</td>\n",
       "      <td>...</td>\n",
       "      <td>27.203000</td>\n",
       "      <td>8.362000</td>\n",
       "      <td>5.466000</td>\n",
       "      <td>1.091000</td>\n",
       "      <td>2.208000</td>\n",
       "      <td>2.745000</td>\n",
       "      <td>3.052000</td>\n",
       "      <td>1.779000</td>\n",
       "      <td>2125.870000</td>\n",
       "      <td>1.0</td>\n",
       "    </tr>\n",
       "  </tbody>\n",
       "</table>\n",
       "<p>8 rows × 31 columns</p>\n",
       "</div>"
      ],
      "text/plain": [
       "                Time          V1          V2          V3          V4  \\\n",
       "count     492.000000  492.000000  492.000000  492.000000  492.000000   \n",
       "mean    80746.806911   -4.771937    3.623789   -7.033274    4.542028   \n",
       "std     47835.365138    6.783700    4.291204    7.110964    2.873324   \n",
       "min       406.000000  -30.552000   -8.402000  -31.104000   -1.313000   \n",
       "25%     41241.500000   -6.035750    1.188500   -8.643750    2.372750   \n",
       "50%     75568.500000   -2.342500    2.718000   -5.075000    4.177500   \n",
       "75%    128483.000000   -0.419250    4.971250   -2.276250    6.349000   \n",
       "max    170348.000000    2.132000   22.058000    2.250000   12.115000   \n",
       "\n",
       "               V5          V6          V7          V8          V9  ...  \\\n",
       "count  492.000000  492.000000  492.000000  492.000000  492.000000  ...   \n",
       "mean    -3.151232   -1.397722   -5.568713    0.570648   -2.581128  ...   \n",
       "std      5.372473    1.858124    7.206761    6.797792    2.500895  ...   \n",
       "min    -22.106000   -6.406000  -43.557000  -41.044000  -13.434000  ...   \n",
       "25%     -4.792750   -2.501750   -7.965000   -0.195500   -3.872250  ...   \n",
       "50%     -1.523000   -1.425000   -3.034500    0.621500   -2.208500  ...   \n",
       "75%      0.214750   -0.413500   -0.945500    1.764500   -0.787500  ...   \n",
       "max     11.095000    6.474000    5.803000   20.007000    3.354000  ...   \n",
       "\n",
       "              V21         V22         V23         V24         V25         V26  \\\n",
       "count  492.000000  492.000000  492.000000  492.000000  492.000000  492.000000   \n",
       "mean     0.713606    0.014045   -0.040297   -0.105114    0.041431    0.051650   \n",
       "std      3.869327    1.494592    1.579657    0.515570    0.797217    0.471698   \n",
       "min    -22.798000   -8.887000  -19.254000   -2.028000   -4.782000   -1.153000   \n",
       "25%      0.042000   -0.533500   -0.342250   -0.437250   -0.314000   -0.259500   \n",
       "50%      0.592500    0.048500   -0.073000   -0.060500    0.088500    0.004000   \n",
       "75%      1.244500    0.617250    0.308250    0.285250    0.456500    0.397000   \n",
       "max     27.203000    8.362000    5.466000    1.091000    2.208000    2.745000   \n",
       "\n",
       "              V27         V28       Amount  Class  \n",
       "count  492.000000  492.000000   492.000000  492.0  \n",
       "mean     0.170598    0.075667   122.211321    1.0  \n",
       "std      1.376767    0.547293   256.683288    0.0  \n",
       "min     -7.263000   -1.869000     0.000000    1.0  \n",
       "25%     -0.020250   -0.109000     1.000000    1.0  \n",
       "50%      0.395000    0.146500     9.250000    1.0  \n",
       "75%      0.826250    0.381000   105.890000    1.0  \n",
       "max      3.052000    1.779000  2125.870000    1.0  \n",
       "\n",
       "[8 rows x 31 columns]"
      ]
     },
     "execution_count": 15,
     "metadata": {},
     "output_type": "execute_result"
    }
   ],
   "source": [
    "fraud_df = data.loc[data['Class']==1]\n",
    "fraud_df.describe()"
   ]
  },
  {
   "cell_type": "markdown",
   "metadata": {},
   "source": [
    "We segregated the fraudulent data to do some visualizations and see if we can find any significant pattern in there."
   ]
  },
  {
   "cell_type": "code",
   "execution_count": 16,
   "metadata": {},
   "outputs": [
    {
     "data": {
      "image/png": "[encoded data removed]",
      "text/plain": [
       "<Figure size 1152x576 with 2 Axes>"
      ]
     },
     "metadata": {
      "needs_background": "light"
     },
     "output_type": "display_data"
    }
   ],
   "source": [
    "f,(ax1,ax2)=plt.subplots(2,1,figsize=(16,8))\n",
    "ax1.hist(data.Time[data.Class==1],bins=50)\n",
    "ax1.set_title(\"Fraudulent Transactions Time Distribution\")\n",
    "ax2.hist(data.Time[data.Class==0],bins=50)\n",
    "ax2.set_title(\"Non Fraudulent Transactions Time Distribution\")\n",
    "plt.xlabel('Time in secs')\n",
    "plt.ylabel('Number of transactions')\n",
    "plt.show()"
   ]
  },
  {
   "cell_type": "code",
   "execution_count": 17,
   "metadata": {},
   "outputs": [
    {
     "data": {
      "image/png": "[encoded data removed]",
      "text/plain": [
       "<Figure size 864x720 with 2 Axes>"
      ]
     },
     "metadata": {
      "needs_background": "light"
     },
     "output_type": "display_data"
    }
   ],
   "source": [
    "f,(ax1,ax2)=plt.subplots(2,1,figsize=(12,10))\n",
    "ax1.hist(data.Amount[data.Class==1],bins=50)\n",
    "ax1.set_title(\"Fraudulent Transactions Amount Distribution\")\n",
    "ax2.hist(data.Amount[data.Class==0],bins=50)\n",
    "ax2.set_title(\"Non Fraudulent Transactions Amount Distribution\")\n",
    "plt.xlabel('Amount in USD')\n",
    "plt.ylabel('Number of transactions')\n",
    "plt.show()"
   ]
  },
  {
   "cell_type": "markdown",
   "metadata": {},
   "source": [
    "The dataset is a Kaggle dataset which has transaction data over 2 days with around 28 features which are transformed by PCA.Due to this we have no identity for them except for 2 variables that are time and Amount. After doing some high level data exploration and looking at statistics we draw the following observations:\n",
    "\n",
    "1. It is highly unbalanced data. ~280k transactions out of which only 492 are fraudulent.  Due to the disparity of classes in the variables, (99.9% non fraud vs 0.1% fraud ) any algorithm will categorize results into the class with more instances, (here non-fraud) while at the same time giving the false sense of a highly accurate model. So our first problem is to solve this issue of unbalanced data. We will solve this by reviewing different sampling techniques and implementing them to see which one gives better results. \n",
    "2. Since most of the data is PCA transformed we do not have descriptive attributes of any of the 28 features. However looking at the distributions of the amount we might remove some extreme outliers wrt to the amount. Since the mean amount is 88 and the maximum is 25000 the outliers will essentially affect the results. We also need to consider standardizing the amount and time variable by scaling it.\n",
    "\n",
    "For our next steps we will focus on sampling, scaling and then applying classification algorithms like logistic regressions, decision tree classifier and random forest with xgboost to see which method is most helpful in detecting fraudulent transactions and why. "
   ]
  }
 ],
 "metadata": {
  "kernelspec": {
   "display_name": "Python 3",
   "language": "python",
   "name": "python3"
  },
  "language_info": {
   "codemirror_mode": {
    "name": "ipython",
    "version": 3
   },
   "file_extension": ".py",
   "mimetype": "text/x-python",
   "name": "python",
   "nbconvert_exporter": "python",
   "pygments_lexer": "ipython3",
   "version": "3.8.5"
  }
 },
 "nbformat": 4,
 "nbformat_minor": 5
}
